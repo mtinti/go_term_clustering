{
 "cells": [
  {
   "cell_type": "code",
   "execution_count": 5,
   "metadata": {
    "collapsed": false
   },
   "outputs": [
    {
     "name": "stdout",
     "output_type": "stream",
     "text": [
      "n of workers: 4\n",
      "4\n"
     ]
    }
   ],
   "source": [
    "from ipyparallel import Client\n",
    "import os\n",
    "\n",
    "rc = Client()\n",
    "data_path = os.path.abspath(\"data\")\n",
    "res_path = os.path.abspath(\"results\")\n",
    "\n",
    "rc[:].push(dict(\n",
    "    data_path=data_path,\n",
    "    res_path=res_path,\n",
    "))\n",
    "\n",
    "dview = rc.load_balanced_view()\n",
    "\n",
    "#dview = rc.direct_view('all')\n",
    "print 'n of workers:', len(dview)\n",
    "print len(rc)"
   ]
  },
  {
   "cell_type": "code",
   "execution_count": 6,
   "metadata": {
    "collapsed": false
   },
   "outputs": [
    {
     "name": "stdout",
     "output_type": "stream",
     "text": [
      "{0: {'queue': 0, 'completed': 1, 'tasks': 0}, 1: {'queue': 0, 'completed': 1, 'tasks': 0}, 2: {'queue': 0, 'completed': 1, 'tasks': 0}, 3: {'queue': 0, 'completed': 1, 'tasks': 0}, 'unassigned': 0}\n"
     ]
    }
   ],
   "source": [
    "print dview.queue_status()"
   ]
  },
  {
   "cell_type": "code",
   "execution_count": 7,
   "metadata": {
    "collapsed": false,
    "scrolled": true
   },
   "outputs": [],
   "source": [
    "%%px --local\n",
    "import pandas as pd\n",
    "from string import strip\n",
    "from goatools.base import download_go_basic_obo\n",
    "from goatools.associations import read_associations\n",
    "from goatools.go_enrichment import GOEnrichmentStudy\n",
    "from goatools.obo_parser import GODag\n",
    "import scipy.cluster.hierarchy as sch\n",
    "import numpy as np\n",
    "from string import strip\n"
   ]
  },
  {
   "cell_type": "code",
   "execution_count": null,
   "metadata": {
    "collapsed": true
   },
   "outputs": [],
   "source": [
    "in_go=data_path+'/go-basic.obo'\n",
    "in_assoc=data_path+'/associations.txt'\n",
    "gene_found = [strip(n.split('\\t')[0]) for n in open(data_path+'/in_df.txt').read().split('\\n')]\n",
    "obodag = GODag(in_go)\n",
    "geneid2gos = read_associations(in_assoc)\n",
    "goeaobj = GOEnrichmentStudy(\n",
    "            gene_found, # List of mouse protein-coding genes\n",
    "            geneid2gos, # geneid/GO associations\n",
    "            obodag, # Ontologies\n",
    "            propagate_counts = False,\n",
    "            alpha = 0.05, # default significance cut-off\n",
    "            methods = ['fdr_bh'])"
   ]
  },
  {
   "cell_type": "code",
   "execution_count": null,
   "metadata": {
    "collapsed": true
   },
   "outputs": [],
   "source": [
    "def score(in_genes, index_res, cut_distance, cluster_id):\n",
    "    def count(goea_results_sig):\n",
    "            res = {'BP' : 0,\n",
    "                   'CC' : 0,\n",
    "                   'MF' : 0}\n",
    "            for item in goea_results_sig:\n",
    "                item_list = str(item).split()            \n",
    "                go_type = item_list[1] \n",
    "                res[go_type]+=1\n",
    "            return res   \n",
    "    goea_results_all = goeaobj.run_study(in_genes)\n",
    "    goea_results_sig = [r for r in goea_results_all if r.p_fdr_bh < 0.05]\n",
    "    res = count(goea_results_sig)\n",
    "    if sum(res.values())>0:\n",
    "        res_file = open(res_path+'/'+'res_'+str(cut_distance)+'_'+str(cluster_id)+'.txt','w')\n",
    "        res_file.write('\\t'.join(['cut_distance','cluster_id','CC','MF','BP'])+'\\n')\n",
    "        res_file.write('\\t'.join( [str(n) for n in [cut_distance,cluster_id,res['CC'],res['MF'],res['BP']]] ))\n",
    "        res_file.close()\n",
    "    #return count(goea_results_sig)"
   ]
  },
  {
   "cell_type": "code",
   "execution_count": null,
   "metadata": {
    "collapsed": false
   },
   "outputs": [],
   "source": [
    "def test():\n",
    "    geneids_study = [strip(n) for n in open('test/protein_complexes/T_complex.txt').read().split('\\n')]\n",
    "    score(geneids_study, 'test_local', 0.04, 2)\n",
    "    rc[1].apply(score, geneids_study, 'test_cluster', 0.05, 3)\n",
    "#test()"
   ]
  },
  {
   "cell_type": "code",
   "execution_count": null,
   "metadata": {
    "collapsed": false
   },
   "outputs": [],
   "source": [
    "clustering_df = pd.DataFrame.from_csv('res_clustering.csv')\n",
    "print clustering_df.shape\n",
    "#print clustering_df.head()"
   ]
  },
  {
   "cell_type": "code",
   "execution_count": null,
   "metadata": {
    "collapsed": false,
    "scrolled": true
   },
   "outputs": [],
   "source": [
    "import time\n",
    "import sys\n",
    "start_time = time.time()\n",
    "#res = []\n",
    "\n",
    "for index, col in enumerate(clustering_df.columns):\n",
    "    in_data = clustering_df[col].value_counts()\n",
    "    in_data = in_data[in_data>=2]\n",
    "    cut_distance = col.split('_')[-1]\n",
    "    print index, col, cut_distance\n",
    "    for cluster in in_data.index.values:\n",
    "        genes = clustering_df[col][clustering_df[col]==cluster]\n",
    "        genes = genes.index.values\n",
    "        #print cluster, len(genes)\n",
    "        #print 'send', index, cut_distance, cluster, 'to controller'\n",
    "        dview.apply(score, genes, index, cut_distance, cluster)\n",
    "        test = 0\n",
    "        a=0\n",
    "        while 1:\n",
    "            #send more job only if the queue is less than 100\n",
    "            #help to do not run out of memory\n",
    "            if dview.queue_status()['unassigned']<100:            \n",
    "                break\n",
    "            else:\n",
    "                a+=1\n",
    "                #print a, 'unassigned:', dview.queue_status()['unassigned']\n",
    "                #print 'waited for ', a*1, 'sec'\n",
    "                sys.stdout.flush()\n",
    "                time.sleep(1)            \n",
    "                pass        \n",
    "\n",
    "\n",
    "        \n",
    "print 'end after : ', time.time() - start_time"
   ]
  },
  {
   "cell_type": "code",
   "execution_count": 21,
   "metadata": {
    "collapsed": true
   },
   "outputs": [],
   "source": [
    "\n",
    "%matplotlib inline\n",
    "import matplotlib\n",
    "import matplotlib.pyplot as plt\n",
    "plt.style.use('ggplot')\n",
    "import statsmodels.api as sm\n",
    "lowess = sm.nonparametric.lowess"
   ]
  },
  {
   "cell_type": "code",
   "execution_count": 16,
   "metadata": {
    "collapsed": false
   },
   "outputs": [
    {
     "name": "stdout",
     "output_type": "stream",
     "text": [
      "   cut_distance  cluster_id  CC  MF  BP\n",
      "0          0.09        2270   0   1   0\n",
      "0          0.10        2268   0   1   0\n",
      "0          0.10        1724   1   1   0\n",
      "0          0.11        1724   1   1   0\n",
      "0          0.11        2266   0   1   0\n"
     ]
    }
   ],
   "source": [
    "list_df = [pd.read_table(res_path+'/'+path,sep='\\t') for path in os.listdir(res_path)]\n",
    "list_df = pd.concat(list_df)\n",
    "list_df.sort_values(by='cut_distance', ascending=True, inplace=True)\n",
    "print list_df.head()"
   ]
  },
  {
   "cell_type": "code",
   "execution_count": 19,
   "metadata": {
    "collapsed": false
   },
   "outputs": [
    {
     "name": "stdout",
     "output_type": "stream",
     "text": [
      "              CC  MF  BP\n",
      "cut_distance            \n",
      "0.09           0   1   0\n",
      "0.10           1   2   0\n",
      "0.11           1   2   0\n",
      "0.12           2   3   2\n",
      "0.13           4   5   2\n"
     ]
    }
   ],
   "source": [
    "combined = list_df.groupby('cut_distance').sum()\n",
    "del combined['cluster_id']\n",
    "print combined.head()"
   ]
  },
  {
   "cell_type": "code",
   "execution_count": 71,
   "metadata": {
    "collapsed": false
   },
   "outputs": [
    {
     "name": "stdout",
     "output_type": "stream",
     "text": [
      "                    MF        BP    median    lowess\n",
      "cut_distance                                        \n",
      "0.09          0.017241  0.000000  0.008713  0.007019\n",
      "0.10          0.034483  0.000000  0.017427  0.019555\n",
      "0.11          0.034483  0.000000  0.017427  0.032101\n",
      "0.12          0.051724  0.042553  0.047646  0.044659\n",
      "0.13          0.086207  0.042553  0.065072  0.057232\n"
     ]
    },
    {
     "name": "stderr",
     "output_type": "stream",
     "text": [
      "C:\\Anaconda2\\lib\\site-packages\\ipykernel\\__main__.py:7: SettingWithCopyWarning: \n",
      "A value is trying to be set on a copy of a slice from a DataFrame.\n",
      "Try using .loc[row_indexer,col_indexer] = value instead\n",
      "\n",
      "See the caveats in the documentation: http://pandas.pydata.org/pandas-docs/stable/indexing.html#indexing-view-versus-copy\n"
     ]
    }
   ],
   "source": [
    "\n",
    "\n",
    "#combined_norm = combined[['CC','MF','BP']]\n",
    "combined_norm = combined[['MF','BP']]\n",
    "#print combined_norm.head()\n",
    "for col in combined_norm.columns:\n",
    "    combined_norm[col]=combined_norm[col]/combined_norm[col].max()\n",
    "#print combined_norm.head()\n",
    "combined_norm['median']=combined_norm.median(1)\n",
    "combined_norm['median'] = combined_norm['median']/combined_norm['median'].max()\n",
    "combined_norm['lowess'] = lowess(combined_norm['median'], combined_norm.index.values, frac = 0.1, return_sorted = False)\n",
    "print combined_norm.head()\n",
    "#print np.argmax(combined_norm['median'])"
   ]
  },
  {
   "cell_type": "code",
   "execution_count": 72,
   "metadata": {
    "collapsed": false
   },
   "outputs": [
    {
     "data": {
      "text/plain": [
       "(0, 1.1)"
      ]
     },
     "execution_count": 72,
     "metadata": {},
     "output_type": "execute_result"
    },
    {
     "data": {
      "image/png": "[encoded data removed]",
      "text/plain": [
       "<matplotlib.figure.Figure at 0x112858d0>"
      ]
     },
     "metadata": {},
     "output_type": "display_data"
    }
   ],
   "source": [
    "\n",
    "plt.plot(combined_norm['lowess'])\n",
    "plt.xlim(0,10)\n",
    "plt.ylim(0,1.1)\n",
    "\n",
    "#plt.plot(combined_norm['MF'])\n",
    "#plt.plot(combined_norm['BP'])\n",
    "#fig, ax = plt.subplots(nrows=1,ncols=1)\n"
   ]
  },
  {
   "cell_type": "code",
   "execution_count": null,
   "metadata": {
    "collapsed": true
   },
   "outputs": [],
   "source": []
  }
 ],
 "metadata": {
  "kernelspec": {
   "display_name": "Python 2",
   "language": "python",
   "name": "python2"
  },
  "language_info": {
   "codemirror_mode": {
    "name": "ipython",
    "version": 2
   },
   "file_extension": ".py",
   "mimetype": "text/x-python",
   "name": "python",
   "nbconvert_exporter": "python",
   "pygments_lexer": "ipython2",
   "version": "2.7.11"
  }
 },
 "nbformat": 4,
 "nbformat_minor": 0
}
