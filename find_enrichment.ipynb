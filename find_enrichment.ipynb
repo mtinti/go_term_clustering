{
 "cells": [
  {
   "cell_type": "code",
   "execution_count": 5,
   "metadata": {
    "collapsed": false
   },
   "outputs": [
    {
     "name": "stdout",
     "output_type": "stream",
     "text": [
      "n of workers: 4\n",
      "4\n"
     ]
    }
   ],
   "source": [
    "from ipyparallel import Client\n",
    "import os\n",
    "import pprint\n",
    "pp = pprint.PrettyPrinter(indent=4)\n",
    "\n",
    "rc = Client()\n",
    "data_path = os.path.abspath(\"data\")\n",
    "res_path = os.path.abspath(\"results\")\n",
    "random_path = os.path.abspath(\"random\")\n",
    "rc[:].push(dict(\n",
    "    data_path=data_path,\n",
    "    res_path=res_path,\n",
    "    random_path=random_path\n",
    "        \n",
    "))\n",
    "\n",
    "dview = rc.load_balanced_view()\n",
    "\n",
    "#dview = rc.direct_view('all')\n",
    "print 'n of workers:', len(dview)\n",
    "print len(rc)"
   ]
  },
  {
   "cell_type": "code",
   "execution_count": 4,
   "metadata": {
    "collapsed": false
   },
   "outputs": [
    {
     "name": "stdout",
     "output_type": "stream",
     "text": [
      "{   0: {   'completed': 1, 'queue': 0, 'tasks': 0},\n",
      "    1: {   'completed': 1, 'queue': 0, 'tasks': 0},\n",
      "    2: {   'completed': 1, 'queue': 0, 'tasks': 0},\n",
      "    3: {   'completed': 1, 'queue': 0, 'tasks': 0},\n",
      "    'unassigned': 0}\n"
     ]
    }
   ],
   "source": [
    "pp.pprint(dview.queue_status())"
   ]
  },
  {
   "cell_type": "code",
   "execution_count": 6,
   "metadata": {
    "collapsed": false,
    "scrolled": true
   },
   "outputs": [],
   "source": [
    "%%px --local\n",
    "import os\n",
    "import pandas as pd\n",
    "from string import strip\n",
    "from goatools.base import download_go_basic_obo\n",
    "from goatools.associations import read_associations\n",
    "from goatools.go_enrichment import GOEnrichmentStudy\n",
    "from goatools.obo_parser import GODag\n",
    "import scipy.cluster.hierarchy as sch\n",
    "import numpy as np\n",
    "from string import strip\n",
    "from itertools import combinations\n",
    "from scipy import stats"
   ]
  },
  {
   "cell_type": "code",
   "execution_count": null,
   "metadata": {
    "collapsed": false
   },
   "outputs": [],
   "source": [
    "in_go=os.path.join(data_path,'go-basic.obo')\n",
    "in_assoc=os.path.join(data_path,'associations.txt')\n",
    "gene_found = [strip(n.split('\\t')[0]) for n in open(os.path.join(data_path,'in_df.txt')).read().split('\\n')]\n",
    "obodag = GODag(in_go)\n",
    "geneid2gos = read_associations(in_assoc)\n",
    "goeaobj = GOEnrichmentStudy(\n",
    "            gene_found, # List of mouse protein-coding genes\n",
    "            geneid2gos, # geneid/GO associations\n",
    "            obodag, # Ontologies\n",
    "            propagate_counts = False,\n",
    "            alpha = 0.05, # default significance cut-off\n",
    "            methods = ['fdr_bh'])"
   ]
  },
  {
   "cell_type": "code",
   "execution_count": null,
   "metadata": {
    "collapsed": true
   },
   "outputs": [],
   "source": [
    "def score(in_genes, index_res, cut_distance, cluster_id, out_folder):\n",
    "    print out_folder\n",
    "    def count(goea_results_sig):\n",
    "            res = {'BP' : 0,\n",
    "                   'CC' : 0,\n",
    "                   'MF' : 0}\n",
    "            for item in goea_results_sig:\n",
    "                item_list = str(item).split()            \n",
    "                go_type = item_list[1] \n",
    "                res[go_type]+=1\n",
    "            return res   \n",
    "    goea_results_all = goeaobj.run_study(in_genes)\n",
    "    goea_results_sig = [r for r in goea_results_all if r.p_fdr_bh < 0.05]\n",
    "    res = count(goea_results_sig)\n",
    "    if sum(res.values())>0:\n",
    "        file_name = 'res_'+str(cut_distance)+'_'+str(cluster_id)+'.txt'\n",
    "        res_file = open(os.path.join(out_folder,file_name),'w')\n",
    "        res_file.write('\\t'.join(['cut_distance','cluster_id','CC','MF','BP'])+'\\n')\n",
    "        res_file.write('\\t'.join( [str(n) for n in [cut_distance,cluster_id,res['CC'],res['MF'],res['BP']]] ))\n",
    "        res_file.close()\n",
    "    #return count(goea_results_sig)"
   ]
  },
  {
   "cell_type": "code",
   "execution_count": null,
   "metadata": {
    "collapsed": false
   },
   "outputs": [],
   "source": [
    "def test():\n",
    "    in_file = os.path.join('test','protein_complexes','T_complex.txt')\n",
    "    geneids_study = [strip(n) for n in open(in_file).read().split('\\n')]\n",
    "    score(geneids_study, 'test_local', 0.04, 2, random_path)\n",
    "    rc[1].apply(score, geneids_study, 'test_cluster', 0.05, 3, random_path)\n",
    "test()"
   ]
  },
  {
   "cell_type": "code",
   "execution_count": 8,
   "metadata": {
    "collapsed": false
   },
   "outputs": [
    {
     "name": "stdout",
     "output_type": "stream",
     "text": [
      "               clusters_0.0  clusters_0.06\n",
      "Tb927.10.3210          2325           2324\n",
      "Tb927.5.2310           1801           1800\n",
      "Tb927.8.7570           3018           3017\n",
      "Tb927.3.3880           2704           2703\n",
      "Tb927.7.5640           2640           2639\n",
      "                clusters_0.0  clusters_0.06\n",
      "index                                      \n",
      "Tb927.10.11210          2325           2324\n",
      "Tb927.11.3690           1801           1800\n",
      "Tb927.6.4530            3018           3017\n",
      "Tb927.9.10350           2704           2703\n",
      "Tb927.3.1040            2640           2639\n",
      "(3117, 419)\n",
      "(3117, 419)\n"
     ]
    }
   ],
   "source": [
    "import random\n",
    "clustering_df = pd.DataFrame.from_csv('res_clustering.csv')\n",
    "print clustering_df.iloc[0:10,0:2].head()\n",
    "random_df = clustering_df[clustering_df.columns]\n",
    "index = random_df.index.values\n",
    "random.shuffle(index)\n",
    "random_df['index']=index\n",
    "random_df.set_index('index',inplace=True)\n",
    "print random_df.iloc[0:10,0:2].head()\n",
    "print clustering_df.shape\n",
    "print random_df.shape\n",
    "#print clustering_df.head()"
   ]
  },
  {
   "cell_type": "code",
   "execution_count": null,
   "metadata": {
    "collapsed": true
   },
   "outputs": [],
   "source": []
  },
  {
   "cell_type": "code",
   "execution_count": null,
   "metadata": {
    "collapsed": false,
    "scrolled": true
   },
   "outputs": [],
   "source": [
    "import time\n",
    "import sys\n",
    "start_time = time.time()\n",
    "#res = []\n",
    "\n",
    "def process_df(clustering_df=clustering_df, res_path=res_path):\n",
    "    for index, col in enumerate(clustering_df.columns):\n",
    "        in_data = clustering_df[col].value_counts()\n",
    "        in_data = in_data[in_data>=2]\n",
    "        cut_distance = col.split('_')[-1]\n",
    "        print index, col, cut_distance\n",
    "        for cluster in in_data.index.values:\n",
    "            genes = clustering_df[col][clustering_df[col]==cluster]\n",
    "            genes = genes.index.values\n",
    "            #print cluster, len(genes)\n",
    "            #print 'send', index, cut_distance, cluster, 'to controller'\n",
    "            dview.apply(score, genes, index, cut_distance, cluster,res_path)\n",
    "            test = 0\n",
    "            a=0\n",
    "            while 1:\n",
    "                #send more job only if the queue is less than 100\n",
    "                #help to do not run out of memory\n",
    "                if dview.queue_status()['unassigned']<100:            \n",
    "                    break\n",
    "                else:\n",
    "                    a+=1\n",
    "                    #print a, 'unassigned:', dview.queue_status()['unassigned']\n",
    "                    #print 'waited for ', a*1, 'sec'\n",
    "                    sys.stdout.flush()\n",
    "                    time.sleep(1)            \n",
    "                    pass        \n",
    "\n",
    "def test():\n",
    "    process_df(clustering_df=clustering_df.iloc[:,10:20], res_path=res_path)\n",
    "    process_df(clustering_df=random_df.iloc[:,10:20], res_path=random_path)\n",
    "#test()\n",
    "process_df(clustering_df=clustering_df, res_path=res_path)\n",
    "process_df(clustering_df=random_df, res_path=random_path)\n",
    "\n",
    "print 'end after : ', time.time() - start_time"
   ]
  },
  {
   "cell_type": "code",
   "execution_count": null,
   "metadata": {
    "collapsed": false
   },
   "outputs": [],
   "source": [
    "pp.pprint(dview.queue_status())"
   ]
  },
  {
   "cell_type": "code",
   "execution_count": 7,
   "metadata": {
    "collapsed": true
   },
   "outputs": [],
   "source": [
    "def reduce_res(res_path, outname):\n",
    "    list_df = [pd.read_table(os.path.join(res_path, file_name),\n",
    "                             sep='\\t') for file_name in os.listdir(res_path)]\n",
    "    list_df = pd.concat(list_df)\n",
    "    list_df.sort_values(by='cut_distance', ascending=True, inplace=True)\n",
    "    print list_df.head()\n",
    "    combined = list_df.groupby('cut_distance').sum()\n",
    "    del combined['cluster_id']\n",
    "    print combined.head()\n",
    "    combined.to_csv(outname)"
   ]
  },
  {
   "cell_type": "code",
   "execution_count": 11,
   "metadata": {
    "collapsed": false
   },
   "outputs": [
    {
     "name": "stdout",
     "output_type": "stream",
     "text": [
      "   cut_distance  cluster_id  CC  MF  BP\n",
      "0          0.18        2869   0   1   1\n",
      "0          0.19        2856   0   1   1\n",
      "0          0.20        2841   0   1   1\n",
      "0          0.21        2830   0   1   1\n",
      "0          0.22        2822   0   1   1\n",
      "              CC  MF  BP\n",
      "cut_distance            \n",
      "0.18           0   1   1\n",
      "0.19           0   1   1\n",
      "0.20           0   1   1\n",
      "0.21           0   1   1\n",
      "0.22           0   1   1\n"
     ]
    }
   ],
   "source": [
    "import os\n",
    "import pandas as pd\n",
    "reduce_res(os.path.abspath(\"results\"), 'reduced_go_terms.csv')\n",
    "reduce_res(os.path.abspath(\"random\"), 'reduced_random_go_terms.csv')"
   ]
  },
  {
   "cell_type": "code",
   "execution_count": null,
   "metadata": {
    "collapsed": true
   },
   "outputs": [],
   "source": []
  }
 ],
 "metadata": {
  "kernelspec": {
   "display_name": "Python 2",
   "language": "python",
   "name": "python2"
  },
  "language_info": {
   "codemirror_mode": {
    "name": "ipython",
    "version": 2
   },
   "file_extension": ".py",
   "mimetype": "text/x-python",
   "name": "python",
   "nbconvert_exporter": "python",
   "pygments_lexer": "ipython2",
   "version": "2.7.11"
  }
 },
 "nbformat": 4,
 "nbformat_minor": 0
}
