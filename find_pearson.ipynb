{
 "cells": [
  {
   "cell_type": "code",
   "execution_count": 1,
   "metadata": {},
   "outputs": [
    {
     "name": "stdout",
     "output_type": "stream",
     "text": [
      "n of workers: 54\n",
      "54\n",
      "{   0: {   u'completed': 4106, u'queue': 0, u'tasks': 0},\n",
      "    1: {   u'completed': 4256, u'queue': 0, u'tasks': 0},\n",
      "    2: {   u'completed': 4195, u'queue': 0, u'tasks': 0},\n",
      "    3: {   u'completed': 4228, u'queue': 0, u'tasks': 0},\n",
      "    4: {   u'completed': 4104, u'queue': 0, u'tasks': 0},\n",
      "    5: {   u'completed': 4067, u'queue': 0, u'tasks': 0},\n",
      "    6: {   u'completed': 4089, u'queue': 0, u'tasks': 0},\n",
      "    7: {   u'completed': 4093, u'queue': 0, u'tasks': 0},\n",
      "    8: {   u'completed': 4010, u'queue': 0, u'tasks': 0},\n",
      "    9: {   u'completed': 4059, u'queue': 0, u'tasks': 0},\n",
      "    10: {   u'completed': 4043, u'queue': 0, u'tasks': 0},\n",
      "    11: {   u'completed': 4204, u'queue': 0, u'tasks': 0},\n",
      "    12: {   u'completed': 4083, u'queue': 0, u'tasks': 0},\n",
      "    14: {   u'completed': 4053, u'queue': 0, u'tasks': 0},\n",
      "    15: {   u'completed': 3982, u'queue': 0, u'tasks': 0},\n",
      "    16: {   u'completed': 3988, u'queue': 0, u'tasks': 0},\n",
      "    17: {   u'completed': 3954, u'queue': 0, u'tasks': 0},\n",
      "    18: {   u'completed': 3982, u'queue': 0, u'tasks': 0},\n",
      "    19: {   u'completed': 4052, u'queue': 0, u'tasks': 0},\n",
      "    20: {   u'completed': 3953, u'queue': 0, u'tasks': 0},\n",
      "    21: {   u'completed': 4060, u'queue': 0, u'tasks': 0},\n",
      "    22: {   u'completed': 3934, u'queue': 0, u'tasks': 0},\n",
      "    23: {   u'completed': 4223, u'queue': 0, u'tasks': 0},\n",
      "    24: {   u'completed': 4254, u'queue': 0, u'tasks': 0},\n",
      "    25: {   u'completed': 4339, u'queue': 0, u'tasks': 0},\n",
      "    26: {   u'completed': 4028, u'queue': 0, u'tasks': 0},\n",
      "    27: {   u'completed': 4240, u'queue': 0, u'tasks': 0},\n",
      "    28: {   u'completed': 4071, u'queue': 0, u'tasks': 0},\n",
      "    29: {   u'completed': 4046, u'queue': 0, u'tasks': 0},\n",
      "    30: {   u'completed': 4102, u'queue': 0, u'tasks': 0},\n",
      "    31: {   u'completed': 3933, u'queue': 0, u'tasks': 0},\n",
      "    32: {   u'completed': 3950, u'queue': 0, u'tasks': 0},\n",
      "    33: {   u'completed': 3901, u'queue': 0, u'tasks': 0},\n",
      "    34: {   u'completed': 4016, u'queue': 0, u'tasks': 0},\n",
      "    35: {   u'completed': 3919, u'queue': 0, u'tasks': 0},\n",
      "    36: {   u'completed': 3998, u'queue': 0, u'tasks': 0},\n",
      "    37: {   u'completed': 4011, u'queue': 0, u'tasks': 0},\n",
      "    38: {   u'completed': 3922, u'queue': 0, u'tasks': 0},\n",
      "    39: {   u'completed': 3986, u'queue': 0, u'tasks': 0},\n",
      "    40: {   u'completed': 3914, u'queue': 0, u'tasks': 0},\n",
      "    41: {   u'completed': 3991, u'queue': 0, u'tasks': 0},\n",
      "    42: {   u'completed': 3809, u'queue': 0, u'tasks': 0},\n",
      "    43: {   u'completed': 4125, u'queue': 0, u'tasks': 0},\n",
      "    44: {   u'completed': 4234, u'queue': 0, u'tasks': 0},\n",
      "    45: {   u'completed': 4098, u'queue': 0, u'tasks': 0},\n",
      "    46: {   u'completed': 4105, u'queue': 0, u'tasks': 0},\n",
      "    47: {   u'completed': 4128, u'queue': 0, u'tasks': 0},\n",
      "    48: {   u'completed': 4154, u'queue': 0, u'tasks': 0},\n",
      "    49: {   u'completed': 4074, u'queue': 0, u'tasks': 0},\n",
      "    50: {   u'completed': 4018, u'queue': 0, u'tasks': 0},\n",
      "    51: {   u'completed': 4040, u'queue': 0, u'tasks': 0},\n",
      "    52: {   u'completed': 4010, u'queue': 0, u'tasks': 0},\n",
      "    53: {   u'completed': 3993, u'queue': 0, u'tasks': 0},\n",
      "    54: {   u'completed': 4003, u'queue': 0, u'tasks': 0},\n",
      "    u'unassigned': 0}\n"
     ]
    }
   ],
   "source": [
    "from ipyparallel import Client\n",
    "import os\n",
    "import pprint\n",
    "pp = pprint.PrettyPrinter(indent=4)\n",
    "rc = Client()\n",
    "data_path = os.path.abspath(\"data\")\n",
    "res_path = os.path.abspath(\"results\")\n",
    "random_path = os.path.abspath(\"random\")\n",
    "dview = rc.load_balanced_view()\n",
    "#dview = rc.direct_view('all')\n",
    "print 'n of workers:', len(dview)\n",
    "print len(rc)\n",
    "pp.pprint(dview.queue_status())"
   ]
  },
  {
   "cell_type": "code",
   "execution_count": 2,
   "metadata": {
    "collapsed": true
   },
   "outputs": [],
   "source": [
    "%%px --local\n",
    "import os\n",
    "import pandas as pd\n",
    "from string import strip\n",
    "import numpy as np\n",
    "from string import strip\n",
    "from itertools import combinations\n",
    "from scipy import stats\n",
    "import time\n",
    "\n"
   ]
  },
  {
   "cell_type": "code",
   "execution_count": 9,
   "metadata": {},
   "outputs": [
    {
     "name": "stdout",
     "output_type": "stream",
     "text": [
      "                  median_1     median_2     median_3\n",
      "Tb927.10.3210  688310000.0  276010000.0  215760000.0\n",
      "Tb927.5.2310           0.0          0.0          0.0\n",
      "Tb927.8.7570           0.0          0.0          0.0\n",
      "               clusters_0.0  clusters_0.06  clusters_0.09\n",
      "Tb927.10.3210          2325           2324           2323\n",
      "Tb927.5.2310           1801           1800           1800\n",
      "Tb927.8.7570           3018           3017           3016\n",
      "29319788\n"
     ]
    },
    {
     "data": {
      "text/plain": [
       "<AsyncResult: _push>"
      ]
     },
     "execution_count": 9,
     "metadata": {},
     "output_type": "execute_result"
    }
   ],
   "source": [
    "values_df = pd.DataFrame.from_csv(os.path.join(data_path,'in_df.txt'),sep='\\t')\n",
    "cluster_res = pd.DataFrame.from_csv('res_clustering.csv')\n",
    "print values_df.iloc[:3,:3]\n",
    "print cluster_res.iloc[:3,:3]\n",
    "pairs = []\n",
    "for index, cut_distance in enumerate(cluster_res.columns):\n",
    "    temp_df = pd.concat([values_df,cluster_res[cut_distance]],1)\n",
    "    n_of_clusters = cluster_res[cut_distance].value_counts()\n",
    "    n_of_clusters = n_of_clusters[n_of_clusters>=2]\n",
    "    for cluster_id in n_of_clusters.index.values:\n",
    "        genes = temp_df[temp_df[cut_distance]==cluster_id].index.values\n",
    "        temp_pairs = list(combinations(genes,2))\n",
    "        temp_pairs = [(n[0],n[1],cut_distance,cluster_id) for n in temp_pairs]\n",
    "        pairs+=temp_pairs\n",
    "print len(pairs)\n"
   ]
  },
  {
   "cell_type": "code",
   "execution_count": 4,
   "metadata": {},
   "outputs": [
    {
     "name": "stdout",
     "output_type": "stream",
     "text": [
      "2932\n"
     ]
    }
   ],
   "source": [
    "split = lambda lst, sz: [lst[i:i+sz] for i in range(0, len(lst), sz)]\n",
    "batches = [n for n in split(pairs, 10000)]\n",
    "print len(batches)"
   ]
  },
  {
   "cell_type": "code",
   "execution_count": 10,
   "metadata": {},
   "outputs": [
    {
     "data": {
      "text/plain": [
       "<AsyncResult: _push>"
      ]
     },
     "execution_count": 10,
     "metadata": {},
     "output_type": "execute_result"
    }
   ],
   "source": [
    "rc[:].push(dict(\n",
    "    values_df=values_df       \n",
    "))"
   ]
  },
  {
   "cell_type": "code",
   "execution_count": 11,
   "metadata": {},
   "outputs": [],
   "source": [
    "%%px --local\n",
    "def process(batch):\n",
    "    print 'start'\n",
    "    res = [ [str(stats.pearsonr(values_df.loc[n[0]], values_df.loc[n[1]])[0]),str(n[2]),str(n[3])] for n in batch]\n",
    "    return res"
   ]
  },
  {
   "cell_type": "code",
   "execution_count": 14,
   "metadata": {},
   "outputs": [
    {
     "name": "stdout",
     "output_type": "stream",
     "text": [
      "-------send to-------------\n",
      "\n",
      "143.868999958\n",
      "min:  2.39781666597\n",
      "h:  0.0399636110995\n",
      "-------------------------\n",
      "\n"
     ]
    }
   ],
   "source": [
    "\n",
    "start_time = time.time()\n",
    "tasks = []\n",
    "for batch in batches:\n",
    "    ar = dview.apply_async(process, batch)\n",
    "    tasks.append(ar)\n",
    "print '-------send to-------------\\n'     \n",
    "print time.time() - start_time\n",
    "print 'min: ', (time.time() - start_time)/60\n",
    "print 'h: ', (time.time() - start_time)/60/60\n",
    "print '-------------------------\\n'\n"
   ]
  },
  {
   "cell_type": "code",
   "execution_count": 15,
   "metadata": {},
   "outputs": [
    {
     "name": "stdout",
     "output_type": "stream",
     "text": [
      "{   0: {   u'completed': 4203, u'queue': 0, u'tasks': 1},\n",
      "    1: {   u'completed': 4354, u'queue': 0, u'tasks': 1},\n",
      "    2: {   u'completed': 4293, u'queue': 0, u'tasks': 0},\n",
      "    3: {   u'completed': 4326, u'queue': 0, u'tasks': 1},\n",
      "    4: {   u'completed': 4201, u'queue': 0, u'tasks': 1},\n",
      "    5: {   u'completed': 4164, u'queue': 0, u'tasks': 1},\n",
      "    6: {   u'completed': 4186, u'queue': 0, u'tasks': 0},\n",
      "    7: {   u'completed': 4190, u'queue': 0, u'tasks': 1},\n",
      "    8: {   u'completed': 4107, u'queue': 0, u'tasks': 1},\n",
      "    9: {   u'completed': 4156, u'queue': 0, u'tasks': 1},\n",
      "    10: {   u'completed': 4139, u'queue': 0, u'tasks': 1},\n",
      "    11: {   u'completed': 4302, u'queue': 0, u'tasks': 1},\n",
      "    12: {   u'completed': 4179, u'queue': 0, u'tasks': 1},\n",
      "    14: {   u'completed': 4150, u'queue': 0, u'tasks': 1},\n",
      "    15: {   u'completed': 4078, u'queue': 0, u'tasks': 1},\n",
      "    16: {   u'completed': 4085, u'queue': 0, u'tasks': 1},\n",
      "    17: {   u'completed': 4051, u'queue': 0, u'tasks': 1},\n",
      "    18: {   u'completed': 4078, u'queue': 0, u'tasks': 1},\n",
      "    19: {   u'completed': 4149, u'queue': 0, u'tasks': 1},\n",
      "    20: {   u'completed': 4050, u'queue': 0, u'tasks': 1},\n",
      "    21: {   u'completed': 4156, u'queue': 0, u'tasks': 1},\n",
      "    22: {   u'completed': 4031, u'queue': 0, u'tasks': 1},\n",
      "    23: {   u'completed': 4320, u'queue': 0, u'tasks': 1},\n",
      "    24: {   u'completed': 4351, u'queue': 0, u'tasks': 1},\n",
      "    25: {   u'completed': 4438, u'queue': 0, u'tasks': 1},\n",
      "    26: {   u'completed': 4124, u'queue': 0, u'tasks': 1},\n",
      "    27: {   u'completed': 4338, u'queue': 0, u'tasks': 1},\n",
      "    28: {   u'completed': 4168, u'queue': 0, u'tasks': 0},\n",
      "    29: {   u'completed': 4142, u'queue': 0, u'tasks': 1},\n",
      "    30: {   u'completed': 4199, u'queue': 0, u'tasks': 1},\n",
      "    31: {   u'completed': 4029, u'queue': 0, u'tasks': 0},\n",
      "    32: {   u'completed': 4045, u'queue': 0, u'tasks': 1},\n",
      "    33: {   u'completed': 3997, u'queue': 0, u'tasks': 1},\n",
      "    34: {   u'completed': 4112, u'queue': 0, u'tasks': 1},\n",
      "    35: {   u'completed': 4014, u'queue': 0, u'tasks': 1},\n",
      "    36: {   u'completed': 4094, u'queue': 0, u'tasks': 1},\n",
      "    37: {   u'completed': 4107, u'queue': 0, u'tasks': 1},\n",
      "    38: {   u'completed': 4017, u'queue': 0, u'tasks': 1},\n",
      "    39: {   u'completed': 4083, u'queue': 0, u'tasks': 1},\n",
      "    40: {   u'completed': 4010, u'queue': 0, u'tasks': 0},\n",
      "    41: {   u'completed': 4087, u'queue': 0, u'tasks': 1},\n",
      "    42: {   u'completed': 3899, u'queue': 0, u'tasks': 1},\n",
      "    43: {   u'completed': 4222, u'queue': 0, u'tasks': 1},\n",
      "    44: {   u'completed': 4333, u'queue': 0, u'tasks': 1},\n",
      "    45: {   u'completed': 4195, u'queue': 0, u'tasks': 1},\n",
      "    46: {   u'completed': 4202, u'queue': 0, u'tasks': 1},\n",
      "    47: {   u'completed': 4225, u'queue': 0, u'tasks': 1},\n",
      "    48: {   u'completed': 4252, u'queue': 0, u'tasks': 1},\n",
      "    49: {   u'completed': 4172, u'queue': 0, u'tasks': 1},\n",
      "    50: {   u'completed': 4115, u'queue': 0, u'tasks': 1},\n",
      "    51: {   u'completed': 4137, u'queue': 0, u'tasks': 1},\n",
      "    52: {   u'completed': 4107, u'queue': 0, u'tasks': 1},\n",
      "    53: {   u'completed': 4090, u'queue': 0, u'tasks': 1},\n",
      "    54: {   u'completed': 4101, u'queue': 0, u'tasks': 0},\n",
      "    u'unassigned': 0}\n",
      "2932\n"
     ]
    }
   ],
   "source": [
    "pp.pprint(dview.queue_status())\n",
    "print len(tasks)\n",
    "#print tasks[0].get()[0][0]"
   ]
  },
  {
   "cell_type": "code",
   "execution_count": 16,
   "metadata": {},
   "outputs": [],
   "source": [
    "\n",
    "tasks = [n.get() for  n in tasks]\n",
    "file_res  = open('person_res.txt','w')\n",
    "for batch in tasks:\n",
    "    for item in batch:\n",
    "       file_res.write('\\t'.join(item)+'\\n') \n",
    "file_res.close()\n"
   ]
  },
  {
   "cell_type": "code",
   "execution_count": null,
   "metadata": {
    "collapsed": true
   },
   "outputs": [],
   "source": []
  }
 ],
 "metadata": {
  "kernelspec": {
   "display_name": "Python 2",
   "language": "python",
   "name": "python2"
  },
  "language_info": {
   "codemirror_mode": {
    "name": "ipython",
    "version": 2
   },
   "file_extension": ".py",
   "mimetype": "text/x-python",
   "name": "python",
   "nbconvert_exporter": "python",
   "pygments_lexer": "ipython2",
   "version": "2.7.13"
  }
 },
 "nbformat": 4,
 "nbformat_minor": 1
}
